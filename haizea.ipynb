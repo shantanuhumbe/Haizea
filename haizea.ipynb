{
 "cells": [
  {
   "cell_type": "markdown",
   "metadata": {},
   "source": [
    "Importing Libraries"
   ]
  },
  {
   "cell_type": "code",
   "execution_count": 58,
   "metadata": {},
   "outputs": [],
   "source": [
    "import json\n",
    "import xmltodict"
   ]
  },
  {
   "cell_type": "markdown",
   "metadata": {},
   "source": [
    "Converting Time given to seconds as easy to operate with"
   ]
  },
  {
   "cell_type": "code",
   "execution_count": 59,
   "metadata": {},
   "outputs": [],
   "source": [
    "def convertTime(curTime):\n",
    "    curTime = curTime[:8]\n",
    "    parts = curTime.split(':')\n",
    "    return int(parts[0])*3600 + int(parts[1])*60 + int(parts[2])"
   ]
  },
  {
   "cell_type": "markdown",
   "metadata": {},
   "source": [
    "Reading the given .lwf file and making the list of all given leases by embedding it to the dictionaries"
   ]
  },
  {
   "cell_type": "code",
   "execution_count": 60,
   "metadata": {},
   "outputs": [],
   "source": [
    "xml_file = open(\"data4.lwf\")                                            #Parsing the .lwf file and reading attributes to create lease\n",
    "data = xmltodict.parse(xml_file.read())[\"lease-workload\"]\n",
    "xml_file.close()\n",
    "\n",
    "total_Leases=0\n",
    "cloud_Nodes = int(data[\"site\"][\"nodes\"][\"node-set\"][\"@numnodes\"])\n",
    "strval = \"\"\n",
    "leases = []\n",
    "for request in data[\"lease-requests\"][\"lease-request\"]:\n",
    "    temp = {}\n",
    "    temp[\"id\"] = int(request[\"lease\"][\"@id\"])\n",
    "    temp[\"arrival\"] = convertTime(request[\"@arrival\"])\n",
    "    temp[\"nodes\"] = int(request[\"lease\"][\"nodes\"][\"node-set\"][\"@numnodes\"])\n",
    "    temp[\"start\"] = convertTime(request[\"lease\"][\"start\"][\"exact\"][\"@time\"])\n",
    "    temp[\"duration\"] = convertTime(request[\"lease\"][\"duration\"][\"@time\"])\n",
    "    temp[\"deadline\"] = convertTime(request[\"lease\"][\"deadline\"][\"@time\"])\n",
    "    temp[\"slack\"] = round((temp[\"deadline\"] - temp[\"start\"]) / temp[\"duration\"], 2)\n",
    "    if(temp[\"deadline\"]>=temp[\"start\"]):                    #checking if the lease values are valid\n",
    "        leases.append(temp)\n",
    "    total_Leases+=1"
   ]
  },
  {
   "cell_type": "markdown",
   "metadata": {},
   "source": [
    "Sorting the leases based on arrival time"
   ]
  },
  {
   "cell_type": "code",
   "execution_count": 61,
   "metadata": {},
   "outputs": [],
   "source": [
    "leases = sorted(leases, key=lambda d: d['arrival'])"
   ]
  },
  {
   "cell_type": "markdown",
   "metadata": {},
   "source": [
    "Checking if the space with given time start and end time present in the given node or not"
   ]
  },
  {
   "cell_type": "code",
   "execution_count": 62,
   "metadata": {},
   "outputs": [],
   "source": [
    "def check(node,start,end):                          #node space checking\n",
    "    node.sort()\n",
    "    for i in range(len(node)-1):\n",
    "        if(node[i][1]<=start and end<=node[i+1][0]):\n",
    "            return True\n",
    "    return False\n"
   ]
  },
  {
   "cell_type": "markdown",
   "metadata": {},
   "source": [
    "Finding the slot for given lease for the required number of nodes and if available appedning the given lease"
   ]
  },
  {
   "cell_type": "code",
   "execution_count": 63,
   "metadata": {},
   "outputs": [],
   "source": [
    "def findSlot(req, resource):\n",
    "    startTime = req[\"start\"]\n",
    "    deadline = req[\"deadline\"]\n",
    "    duration = req[\"duration\"]\n",
    "    required_nodes = req[\"nodes\"]\n",
    "    id=req[\"id\"]\n",
    "    found=False\n",
    "\n",
    "    for i in range(len(resource)):\n",
    "        for j in range(len(resource[i])-1):\n",
    "            if(resource[i][j][1]>=startTime or startTime<=resource[i][j+1][0]):    #checkling if startime is grater than or equal to start time or less than next lease endtime  \n",
    "                st=max(startTime,resource[i][j][1])                              #start time is max of start time and end time of previous end time\n",
    "                if(st+duration<=resource[i][j+1][0] and st+duration<=deadline):      \n",
    "\n",
    "                    available_nodes=[]                                  #available node for the scheduling for given start and duration\n",
    "\n",
    "                    for x in range(len(resource)):\n",
    "                        if check(resource[x],st,st+duration):                #checking the nodes for the given start and duration\n",
    "                            available_nodes.append(x)\n",
    "\n",
    "                    if len(available_nodes)>=required_nodes: \n",
    "                        \n",
    "                        tmp=[st,st+duration,id]\n",
    "                        for x in range(required_nodes):\n",
    "                            resource[available_nodes[x]].append(tmp)\n",
    "                            resource[available_nodes[x]].sort()\n",
    "                        found=True\n",
    "                        break\n",
    "        \n",
    "        if found:\n",
    "            return True\n",
    "    return False             \n",
    "\n",
    "            "
   ]
  },
  {
   "cell_type": "markdown",
   "metadata": {},
   "source": [
    "If the node space could not found then trying the rescheduling by sorting on the slack values"
   ]
  },
  {
   "cell_type": "code",
   "execution_count": 64,
   "metadata": {},
   "outputs": [],
   "source": [
    "def reschedule(req,resource):\n",
    "\n",
    "    duplicateResource = []                      #Creating dummy resource for rescheduling\n",
    "    count=0\n",
    "    st=[0,0,0] \n",
    "    en=[1e9,1e9,1e9]\n",
    "\n",
    "    for i in range(cloud_Nodes):\n",
    "        tmp=[]\n",
    "        tmp.append(st)\n",
    "        tmp.append(en)\n",
    "        duplicateResource.append(tmp)\n",
    "\n",
    "    nonScheduleLeases=[]\n",
    "    st=req[\"start\"]\n",
    "\n",
    "    for i in range(len(resource)):\n",
    "        for j in range(1,len(resource[i])-1):\n",
    "           if(st<=resource[i][j][0]):\n",
    "            nonScheduleLeases.append(resource[i][j][2])\n",
    "           else:\n",
    "            duplicateResource[i].append(resource[i][j])\n",
    "\n",
    "    s=set(nonScheduleLeases)\n",
    "    nonScheduleLeases=list(s)\n",
    "    nonScheduleLeasesDict=[]\n",
    "    nonScheduleLeasesDict.append(req)\n",
    "\n",
    "    for i in range(len(leases)):\n",
    "        for j in range(len(nonScheduleLeases)):\n",
    "            if(leases[i][\"id\"]==nonScheduleLeases[j]):\n",
    "                nonScheduleLeasesDict.append(leases[i])\n",
    "\n",
    "    nonScheduleLeasesDict = sorted(nonScheduleLeasesDict, key=lambda d: d['slack'])\n",
    "    for i in range(len(nonScheduleLeasesDict)):\n",
    "        if not findSlot(nonScheduleLeasesDict[i],duplicateResource):                #If any one of the lease not schedule then reeturn original resource\n",
    "            return resource,True,nonScheduleLeases\n",
    "\n",
    "    return duplicateResource,False,nonScheduleLeases                                                  #If able to reschedule all the leases return the duplicate resource\n"
   ]
  },
  {
   "cell_type": "markdown",
   "metadata": {},
   "source": [
    "Creating the node spaces and and calling the findslot function and if could not schedule trying to reschedule"
   ]
  },
  {
   "cell_type": "code",
   "execution_count": 65,
   "metadata": {},
   "outputs": [
    {
     "name": "stdout",
     "output_type": "stream",
     "text": [
      "Leases that rescheduled for the lease id 31 are with ids [7, 8, 9, 13, 14, 15, 16, 18, 20]\n",
      "Leases that rescheduled for the lease id 34 are with ids [33, 9, 13, 14, 15, 16, 18, 20]\n",
      "Leases that rescheduled for the lease id 36 are with ids [13, 14, 15, 16, 18, 20]\n",
      "Total Leases: 43\n",
      "Total Leases Scheduled: 24\n",
      "Total non-scheduled leases:  19\n",
      "Total leases that insisted rescheduling:  22\n",
      "Scheduled Percentage: 55.81\n",
      "Utilization of reesources:-0.3719298245614035\n",
      "\n"
     ]
    }
   ],
   "source": [
    "resource = []\n",
    "count=0\n",
    "st=[0,0,0] \n",
    "en=[1e9,1e9,1e9]\n",
    "\n",
    "rescheduling_insisted=0\n",
    "cant_schedule=0\n",
    "\n",
    "for i in range(cloud_Nodes):\n",
    "    tmp=[st,en]\n",
    "    resource.append(tmp)\n",
    "\n",
    "\n",
    "for i in range(len(leases)):\n",
    "     if not findSlot(leases[i],resource):\n",
    "        rescheduling_insisted+=1\n",
    "        resource,didnt,leases_rescheduled=reschedule(leases[i],resource)\n",
    "        cant_schedule+=didnt\n",
    "        if not didnt:\n",
    "            print(\"Leases that rescheduled for the lease id \"+str(leases[i][\"id\"])+ \" are with ids \"+str(leases_rescheduled))  \n",
    "\n",
    "\n",
    "\n",
    "\n",
    "#calculating the utilization for all the nodes\n",
    "\n",
    "\n",
    "used_time=0\n",
    "all_resource_time=0\n",
    "\n",
    "for x in resource:\n",
    "    used1=0\n",
    "    for i in range(len(x)-1): \n",
    "        used_time+=(x[i][1]-x[i][0])\n",
    "    all_resource_time+=x[len(x)-2][1]\n",
    "\n",
    "utilization=(used_time/all_resource_time)\n",
    "print(\"Total Leases:\", total_Leases)\n",
    "print(\"Total Leases Scheduled:\", total_Leases - (cant_schedule+total_Leases-len(leases)))\n",
    "print(\"Total non-scheduled leases: \",(cant_schedule+total_Leases-len(leases)))\n",
    "print(\"Total leases that insisted rescheduling: \",rescheduling_insisted)\n",
    "print(\"Scheduled Percentage:\", (round(((total_Leases - (cant_schedule+total_Leases-len(leases)))/ total_Leases)*100,2)))\n",
    "print(\"Utilization of reesources:-\" +str(utilization)+\"\\n\")\n"
   ]
  }
 ],
 "metadata": {
  "kernelspec": {
   "display_name": "Python 3.10.1 64-bit",
   "language": "python",
   "name": "python3"
  },
  "language_info": {
   "codemirror_mode": {
    "name": "ipython",
    "version": 3
   },
   "file_extension": ".py",
   "mimetype": "text/x-python",
   "name": "python",
   "nbconvert_exporter": "python",
   "pygments_lexer": "ipython3",
   "version": "3.10.1"
  },
  "orig_nbformat": 4,
  "vscode": {
   "interpreter": {
    "hash": "7e1998ff7f8aa20ada591c520b972326324e5ea05489af9e422744c7c09f6dad"
   }
  }
 },
 "nbformat": 4,
 "nbformat_minor": 2
}
