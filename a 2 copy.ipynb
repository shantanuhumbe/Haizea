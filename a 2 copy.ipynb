{
 "cells": [
  {
   "cell_type": "markdown",
   "metadata": {},
   "source": [
    "Importing Libraries"
   ]
  },
  {
   "cell_type": "code",
   "execution_count": 224,
   "metadata": {},
   "outputs": [],
   "source": [
    "import json\n",
    "import xmltodict\n",
    "import os"
   ]
  },
  {
   "cell_type": "markdown",
   "metadata": {},
   "source": [
    "Converting Time given to seconds as easy to operate with"
   ]
  },
  {
   "cell_type": "code",
   "execution_count": 225,
   "metadata": {},
   "outputs": [],
   "source": [
    "def convertTime(curTime):\n",
    "    curTime = curTime[:8]\n",
    "    parts = curTime.split(':')\n",
    "    return int(parts[0])*3600 + int(parts[1])*60 + int(parts[2])"
   ]
  },
  {
   "cell_type": "markdown",
   "metadata": {},
   "source": [
    "Reading the given .lwf file and making the list of all given leases by embedding it to the dictionaries"
   ]
  },
  {
   "cell_type": "code",
   "execution_count": 238,
   "metadata": {},
   "outputs": [],
   "source": [
    "xml_file = open(\"data4.lwf\")\n",
    "data = xmltodict.parse(xml_file.read())[\"lease-workload\"]\n",
    "xml_file.close()\n",
    "\n",
    "maxNodes = int(data[\"site\"][\"nodes\"][\"node-set\"][\"@numnodes\"])\n",
    "strval = \"\"\n",
    "requests = []\n",
    "for request in data[\"lease-requests\"][\"lease-request\"]:\n",
    "    temp = {}\n",
    "    temp[\"id\"] = int(request[\"lease\"][\"@id\"])\n",
    "    temp[\"arrival\"] = convertTime(request[\"@arrival\"])\n",
    "    temp[\"nodes\"] = int(request[\"lease\"][\"nodes\"][\"node-set\"][\"@numnodes\"])\n",
    "    temp[\"start\"] = convertTime(request[\"lease\"][\"start\"][\"exact\"][\"@time\"])\n",
    "    temp[\"duration\"] = convertTime(request[\"lease\"][\"duration\"][\"@time\"])\n",
    "    temp[\"deadline\"] = convertTime(request[\"lease\"][\"deadline\"][\"@time\"])\n",
    "    temp[\"slack\"] = round(\n",
    "        (temp[\"deadline\"] - temp[\"start\"]) / temp[\"duration\"], 2)\n",
    "    if(temp[\"deadline\"]>=temp[\"start\"]):\n",
    "        requests.append(temp)"
   ]
  },
  {
   "cell_type": "markdown",
   "metadata": {},
   "source": [
    "Sorting the leases based on arrival time"
   ]
  },
  {
   "cell_type": "code",
   "execution_count": 239,
   "metadata": {},
   "outputs": [],
   "source": [
    "requests = sorted(requests, key=lambda d: d['arrival'])"
   ]
  },
  {
   "cell_type": "markdown",
   "metadata": {},
   "source": [
    "Checking if the space with given time start and end time present in the given node or not"
   ]
  },
  {
   "cell_type": "code",
   "execution_count": 240,
   "metadata": {},
   "outputs": [],
   "source": [
    "def check(sch,start,end):\n",
    "    sch.sort()\n",
    "    for i in range(len(sch)-1):\n",
    "        if(sch[i][1]<=start and end<=sch[i+1][0]):\n",
    "            return True\n",
    "    return False\n"
   ]
  },
  {
   "cell_type": "markdown",
   "metadata": {},
   "source": [
    "Finding the slot for given lease for the required number of nodes and if available appedning the given lease"
   ]
  },
  {
   "cell_type": "code",
   "execution_count": 241,
   "metadata": {},
   "outputs": [],
   "source": [
    "def findSlot(req, sch):\n",
    "    startTime = req[\"start\"]\n",
    "    deadline = req[\"deadline\"]\n",
    "    duration = req[\"duration\"]\n",
    "    nodes = req[\"nodes\"]\n",
    "    id=req[\"id\"]\n",
    "    found=False\n",
    "\n",
    "    for i in range(len(sch)):\n",
    "        for j in range(len(sch[i])-1):\n",
    "            if(sch[i][j][1]>=startTime or startTime<=sch[i][j+1][0]):    #checkling if startime is grater than or equal to start time or less than next lease endtime  \n",
    "                st=max(startTime,sch[i][j][1])                              #start time is max of start time and end time of previous end time\n",
    "                if(st+duration<=sch[i][j+1][0] and st+duration<=deadline):      \n",
    "\n",
    "                    available_nodes=[]                                  #available node for the scheduling for given start and duration\n",
    "\n",
    "                    for x in range(len(sch)):\n",
    "                        if check(sch[x],st,st+duration):                #checking the nodes for the given start and duration\n",
    "                            available_nodes.append(x)\n",
    "\n",
    "                    if len(available_nodes)>=nodes: \n",
    "                        \n",
    "                        tmp=[st,st+duration,id]\n",
    "                        for x in range(nodes):\n",
    "                            sch[available_nodes[x]].append(tmp)\n",
    "                            sch[available_nodes[x]].sort()\n",
    "                        found=True\n",
    "                        break\n",
    "        \n",
    "        if found:\n",
    "            return True\n",
    "    return False             \n",
    "\n",
    "            "
   ]
  },
  {
   "cell_type": "markdown",
   "metadata": {},
   "source": [
    "If the node space could not found then trying the rescheduling by sorting on the slack values"
   ]
  },
  {
   "cell_type": "code",
   "execution_count": 242,
   "metadata": {},
   "outputs": [],
   "source": [
    "def reschedule(req,sc):\n",
    "\n",
    "    dup = []\n",
    "    count=0\n",
    "    st=[0,0,0] \n",
    "    en=[1e9,1e9,1e9]\n",
    "\n",
    "    for i in range(maxNodes):\n",
    "        tmp=[]\n",
    "        tmp.append(st)\n",
    "        tmp.append(en)\n",
    "        dup.append(tmp)\n",
    "\n",
    "    nsl=[]\n",
    "    st=req[\"start\"]\n",
    "    for i in range(len(sc)):\n",
    "        for j in range(1,len(sc[i])-1):\n",
    "\n",
    "           if(st<=sc[i][j][0]):\n",
    "            nsl.append(sc[i][j][2])\n",
    "           else:\n",
    "            dup[i].append(sc[i][j])\n",
    "\n",
    "    s=set(nsl)\n",
    "    nsl=list(s)\n",
    "    nsld=[]\n",
    "    nsld.append(req)\n",
    "    for i in range(len(requests)):\n",
    "        for j in range(len(nsl)):\n",
    "\n",
    "            if(requests[i][\"id\"]==nsl[j]):\n",
    "                nsld.append(requests[i])\n",
    "    nsld = sorted(nsld, key=lambda d: d['slack'])\n",
    "    for i in range(len(nsld)):\n",
    "\n",
    "        if not findSlot(nsld[i],dup):\n",
    "            return sc,1   \n",
    "    return dup,0\n"
   ]
  },
  {
   "cell_type": "markdown",
   "metadata": {},
   "source": [
    "Creating the node spaces and and calling the findslot function and if could not schedule trying to reschedule"
   ]
  },
  {
   "cell_type": "code",
   "execution_count": 243,
   "metadata": {},
   "outputs": [
    {
     "name": "stdout",
     "output_type": "stream",
     "text": [
      "Total Leases: 43\n",
      "Total Leases Scheduled: 24\n",
      "Scheduled Percentage: 55.81395348837209\n",
      "Not possible to schedule 19\n"
     ]
    }
   ],
   "source": [
    "sc = []\n",
    "count=0\n",
    "st=[0,0,0] \n",
    "en=[1e9,1e9,1e9]\n",
    "\n",
    "for i in range(maxNodes):\n",
    "    tmp=[st,en]\n",
    "    sc.append(tmp)\n",
    "\n",
    "\n",
    "for i in range(len(requests)):\n",
    "     if not findSlot(requests[i],sc):\n",
    "        sc,didnt=reschedule(requests[i],sc)\n",
    "        count+=didnt  \n",
    "\n",
    "print(\"Total Leases:\", len(requests))\n",
    "print(\"Total Leases Scheduled:\", len(requests) - count)\n",
    "print(\"Scheduled Percentage:\", ((len(requests) - count)/ len(requests))*100)\n",
    "print(\"Not possible to schedule\", count)\n",
    "    \n"
   ]
  },
  {
   "cell_type": "code",
   "execution_count": null,
   "metadata": {},
   "outputs": [],
   "source": []
  }
 ],
 "metadata": {
  "kernelspec": {
   "display_name": "Python 3.10.1 64-bit",
   "language": "python",
   "name": "python3"
  },
  "language_info": {
   "codemirror_mode": {
    "name": "ipython",
    "version": 3
   },
   "file_extension": ".py",
   "mimetype": "text/x-python",
   "name": "python",
   "nbconvert_exporter": "python",
   "pygments_lexer": "ipython3",
   "version": "3.10.1"
  },
  "orig_nbformat": 4,
  "vscode": {
   "interpreter": {
    "hash": "7e1998ff7f8aa20ada591c520b972326324e5ea05489af9e422744c7c09f6dad"
   }
  }
 },
 "nbformat": 4,
 "nbformat_minor": 2
}
